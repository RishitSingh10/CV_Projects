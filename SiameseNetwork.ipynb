{
  "nbformat": 4,
  "nbformat_minor": 0,
  "metadata": {
    "colab": {
      "provenance": [],
      "gpuType": "T4",
      "authorship_tag": "ABX9TyO3EHvlcj2kdDnGWoy1Ntn/",
      "include_colab_link": true
    },
    "kernelspec": {
      "name": "python3",
      "display_name": "Python 3"
    },
    "language_info": {
      "name": "python"
    },
    "accelerator": "GPU"
  },
  "cells": [
    {
      "cell_type": "markdown",
      "metadata": {
        "id": "view-in-github",
        "colab_type": "text"
      },
      "source": [
        "<a href=\"https://colab.research.google.com/github/RishitSingh10/CV_Projects/blob/main/SiameseNetwork.ipynb\" target=\"_parent\"><img src=\"https://colab.research.google.com/assets/colab-badge.svg\" alt=\"Open In Colab\"/></a>"
      ]
    },
    {
      "cell_type": "markdown",
      "source": [
        "## Face Recognition System using Siamese Network"
      ],
      "metadata": {
        "id": "nfhiuPuO5N9W"
      }
    },
    {
      "cell_type": "code",
      "execution_count": null,
      "metadata": {
        "id": "ehNXc1Sw5Ksj"
      },
      "outputs": [],
      "source": [
        "from google.colab import drive\n",
        "drive.mount('/content/drive')"
      ]
    },
    {
      "cell_type": "code",
      "source": [
        "import os\n",
        "\n",
        "path = \"/content/drive/MyDrive/face_recognition/\"\n",
        "os.chdir(path)"
      ],
      "metadata": {
        "id": "EQvOPof5m8q_"
      },
      "execution_count": null,
      "outputs": []
    },
    {
      "cell_type": "code",
      "source": [
        "%%capture\n",
        "!pip uninstall -y numpy torchvision torch pillow\n",
        "!pip install facenet-pytorch torchvision torch pillow numpy==1.26.4\n",
        "!pip install mtcnn"
      ],
      "metadata": {
        "id": "j6_e-98PqHmV"
      },
      "execution_count": null,
      "outputs": []
    },
    {
      "cell_type": "code",
      "source": [
        "# Restart session in case of an error on Colab\n",
        "\n",
        "from facenet_pytorch import InceptionResnetV1\n",
        "\n",
        "# Create an inception resnet (in eval mode):\n",
        "resnet = InceptionResnetV1(pretrained='vggface2').eval()"
      ],
      "metadata": {
        "id": "MqQd6BBL3vXn"
      },
      "execution_count": null,
      "outputs": []
    },
    {
      "cell_type": "code",
      "source": [
        "import numpy as np\n",
        "\n",
        "np.__version__"
      ],
      "metadata": {
        "id": "PELj2eoC6cm_"
      },
      "execution_count": null,
      "outputs": []
    },
    {
      "cell_type": "markdown",
      "source": [
        "### Detect Faces using MTCNN and Creating embeddings using InceptionResnetV1"
      ],
      "metadata": {
        "id": "GBEeanBwDRj4"
      }
    },
    {
      "cell_type": "code",
      "source": [
        "import cv2\n",
        "import numpy as np\n",
        "import torch\n",
        "import matplotlib.pyplot as plt\n",
        "from mtcnn import MTCNN\n",
        "from mtcnn.utils.images import load_image\n",
        "from collections import defaultdict\n",
        "from tqdm import tqdm\n",
        "import time"
      ],
      "metadata": {
        "id": "5Rwy8lwGnN24"
      },
      "execution_count": null,
      "outputs": []
    },
    {
      "cell_type": "code",
      "source": [
        "device = 'GPU:0' if torch.cuda.is_available() else 'CPU:0'\n",
        "detector = MTCNN(device='CPU:0')  # Initialize MTCNN with the selected device"
      ],
      "metadata": {
        "id": "kuRrOm4XjsZe"
      },
      "execution_count": null,
      "outputs": []
    },
    {
      "cell_type": "code",
      "source": [
        "device"
      ],
      "metadata": {
        "id": "vc1bB95puUxn"
      },
      "execution_count": null,
      "outputs": []
    },
    {
      "cell_type": "markdown",
      "source": [
        "### Calculate Embeddings"
      ],
      "metadata": {
        "id": "nE9cXfksozH1"
      }
    },
    {
      "cell_type": "code",
      "source": [
        "\n",
        "def detect_crop(img, detector):\n",
        "  # Detect faces in the image\n",
        "  result = detector.detect_faces(img)\n",
        "\n",
        "  if len(result) == 0:\n",
        "    return None\n",
        "\n",
        "  imgs = []\n",
        "  for i in range(len(result)):\n",
        "    bbox = result[i]['box']\n",
        "    imgs.append((img[bbox[1]:bbox[1]+bbox[3], bbox[0]:bbox[0]+bbox[2]], bbox))\n",
        "\n",
        "  return imgs\n",
        "\n",
        "\n",
        "def embed(img1):\n",
        "\n",
        "  img1 = cv2.resize(img1, (160, 160))\n",
        "  img1 = img1[:,:,:3]\n",
        "\n",
        "  # Normalize\n",
        "  mean = np.mean(img1, axis=(0,1,2), keepdims=True)\n",
        "  std = np.std(img1, axis=(0,1,2), keepdims=True)\n",
        "  img1 = (img1 - mean) / std\n",
        "\n",
        "  img1 = torch.tensor(img1, dtype=torch.float32)\n",
        "  img1 = img1.permute(2, 0, 1) # Permute to (C, H, W)\n",
        "  img_embedding = resnet(img1.unsqueeze(0))\n",
        "\n",
        "\n",
        "  return img_embedding\n",
        "\n",
        "# Evaluating time taken by \"for loops\" for detecting and generating embeddings for each of the known faces\n",
        "\n",
        "start = time.time()\n",
        "\n",
        "# List of known people\n",
        "known_people = os.listdir('./Face_database/')\n",
        "\n",
        "\n",
        "known_embeddings = defaultdict(list)\n",
        "\n",
        "for people in tqdm(known_people, 'Processing Faces'):\n",
        "  path = f'./Face_database/{people}/'\n",
        "  for img in os.listdir(path):\n",
        "    pth = os.path.join(path, img)\n",
        "    img = load_image(pth)\n",
        "    imgs = detect_crop(img, detector)\n",
        "    img_embedding = embed(imgs[0][0])\n",
        "    known_embeddings[people].append(img_embedding)\n",
        "\n",
        "end = time.time()\n",
        "\n",
        "print(f\"Time taken = {end - start}\")"
      ],
      "metadata": {
        "id": "smTCJJKsw1YD"
      },
      "execution_count": null,
      "outputs": []
    },
    {
      "cell_type": "markdown",
      "source": [
        "### Re Calculating Embeddings using Haar Cascade Detector\n",
        "\n",
        "Faster than mtcnn"
      ],
      "metadata": {
        "id": "Vj1tINmro2iw"
      }
    },
    {
      "cell_type": "code",
      "source": [
        "# OPTIMIZING CODE USING VECTORIZATION\n",
        "face_cascade = cv2.CascadeClassifier(cv2.data.haarcascades + 'haarcascade_frontalface_default.xml')\n",
        "\n",
        "def detect_crop_mtcnn(img):\n",
        "  # Detect faces in the image\n",
        "  result = detector.detect_faces(img)\n",
        "\n",
        "  if len(result) == 0:\n",
        "    return None\n",
        "\n",
        "  return result\n",
        "\n",
        "\n",
        "\n",
        "def detect_crop_haar(img):\n",
        "    # Convert image to grayscale (Haar Cascade works on grayscale images)\n",
        "    # Ensure the input image is in a suitable format (e.g., uint8) for cv2.cvtColor\n",
        "    gray = cv2.cvtColor(img, cv2.COLOR_BGR2GRAY)\n",
        "\n",
        "    # Detect faces using Haar cascade\n",
        "    faces = face_cascade.detectMultiScale(gray, scaleFactor=1.1, minNeighbors=5)\n",
        "\n",
        "    if len(faces) == 0:\n",
        "        return None\n",
        "\n",
        "    return faces  # returns list of rectangles (x, y, w, h)\n",
        "\n",
        "def embed(img1):\n",
        "\n",
        "  img1 = cv2.resize(img1, (160, 160))\n",
        "  img1 = img1[:,:,:3] # Ignore ther transparency channel incase of a png image\n",
        "\n",
        "  # Normalize\n",
        "  mean = np.mean(img1, axis=(0,1,2), keepdims=True)\n",
        "  std = np.std(img1, axis=(0,1,2), keepdims=True)\n",
        "  img1 = (img1 - mean) / std\n",
        "\n",
        "  img1 = torch.tensor(img1, dtype=torch.float32)\n",
        "  img1 = img1.permute(2, 0, 1) # Permute to (C, H, W)\n",
        "  img_embedding = resnet(img1.unsqueeze(0)).detach().numpy()\n",
        "\n",
        "  # Normalize embedding\n",
        "  img_embedding = img_embedding / np.linalg.norm(img_embedding)\n",
        "\n",
        "  return img_embedding.squeeze()\n",
        "\n",
        "\n",
        "start = time.time()\n",
        "\n",
        "# List of known people\n",
        "known_people = os.listdir('./Face_database/')\n",
        "\n",
        "# Saving paths of images for known people in a dict\n",
        "known_dict = defaultdict(list)\n",
        "\n",
        "\n",
        "for name in known_people:\n",
        "  imgs = os.listdir(f'./Face_database/{name}/')\n",
        "  for img_name in imgs:\n",
        "    pth = os.path.join(f'./Face_database/{name}/', img_name)\n",
        "    img = load_image(pth)\n",
        "    result = detect_crop_mtcnn(img) # Pass the converted image to detect_crop\n",
        "    if result: # Changed condition to check if result is not None\n",
        "      bbox = result[0]['box']\n",
        "      crop = img[bbox[1]:bbox[1]+bbox[3], bbox[0]:bbox[0]+bbox[2]]\n",
        "      known_dict[name].append(embed(crop))\n",
        "\n",
        "  known_dict[name] = np.array(known_dict[name])\n",
        "\n",
        "end = time.time()\n",
        "\n",
        "print(f\"Time taken = {end - start}\")"
      ],
      "metadata": {
        "id": "EQAhbq49xGeX"
      },
      "execution_count": null,
      "outputs": []
    },
    {
      "cell_type": "code",
      "source": [
        "# save the known_dict using pickle\n",
        "import pickle\n",
        "\n",
        "with open('embeddings.pkl', 'wb') as f:\n",
        "  pickle.dump(known_dict, f)\n",
        "\n",
        "\n",
        "# Load saved embeddings\n",
        "with open('embeddings.pkl', 'rb') as f:\n",
        "    known_dict = pickle.load(f)\n"
      ],
      "metadata": {
        "id": "axPgg2XhR_Pi"
      },
      "execution_count": null,
      "outputs": []
    },
    {
      "cell_type": "code",
      "source": [
        "# import dependencies\n",
        "from IPython.display import display, Javascript, Image\n",
        "from google.colab.output import eval_js\n",
        "from base64 import b64decode, b64encode\n",
        "import cv2\n",
        "import numpy as np\n",
        "import PIL\n",
        "import io\n",
        "import html\n",
        "import time"
      ],
      "metadata": {
        "id": "yMFz5m9qX2V8"
      },
      "execution_count": null,
      "outputs": []
    },
    {
      "cell_type": "code",
      "source": [
        "# function to convert the JavaScript object into an OpenCV image\n",
        "def js_to_image(js_reply):\n",
        "  \"\"\"\n",
        "  Params:\n",
        "          js_reply: JavaScript object containing image from webcam\n",
        "  Returns:\n",
        "          img: OpenCV BGR image\n",
        "  \"\"\"\n",
        "  # decode base64 image\n",
        "  image_bytes = b64decode(js_reply.split(',')[1])\n",
        "  # convert bytes to numpy array\n",
        "  jpg_as_np = np.frombuffer(image_bytes, dtype=np.uint8)\n",
        "  # decode numpy array into OpenCV BGR image\n",
        "  img = cv2.imdecode(jpg_as_np, flags=1)\n",
        "\n",
        "  return img"
      ],
      "metadata": {
        "id": "gwGfFkgFYCUi"
      },
      "execution_count": null,
      "outputs": []
    },
    {
      "cell_type": "code",
      "source": [
        "# JavaScript to properly create our live video stream using our webcam as input\n",
        "def video_stream():\n",
        "  js = Javascript('''\n",
        "    var video;\n",
        "    var div = null;\n",
        "    var stream;\n",
        "    var captureCanvas;\n",
        "    var imgElement;\n",
        "    var labelElement;\n",
        "\n",
        "    var pendingResolve = null;\n",
        "    var shutdown = false;\n",
        "\n",
        "    function removeDom() {\n",
        "       stream.getVideoTracks()[0].stop();\n",
        "       video.remove();\n",
        "       div.remove();\n",
        "       video = null;\n",
        "       div = null;\n",
        "       stream = null;\n",
        "       imgElement = null;\n",
        "       captureCanvas = null;\n",
        "       labelElement = null;\n",
        "    }\n",
        "\n",
        "    function onAnimationFrame() {\n",
        "      if (!shutdown) {\n",
        "        window.requestAnimationFrame(onAnimationFrame);\n",
        "      }\n",
        "      if (pendingResolve) {\n",
        "        var result = \"\";\n",
        "        if (!shutdown) {\n",
        "          captureCanvas.getContext('2d').drawImage(video, 0, 0, 640, 480);\n",
        "          result = captureCanvas.toDataURL('image/jpeg', 0.8)\n",
        "        }\n",
        "        var lp = pendingResolve;\n",
        "        pendingResolve = null;\n",
        "        lp(result);\n",
        "      }\n",
        "    }\n",
        "\n",
        "    async function createDom() {\n",
        "      if (div !== null) {\n",
        "        return stream;\n",
        "      }\n",
        "\n",
        "      div = document.createElement('div');\n",
        "      div.style.border = '2px solid black';\n",
        "      div.style.padding = '3px';\n",
        "      div.style.width = '100%';\n",
        "      div.style.maxWidth = '600px';\n",
        "      document.body.appendChild(div);\n",
        "\n",
        "      const modelOut = document.createElement('div');\n",
        "      modelOut.innerHTML = \"<span>Status:</span>\";\n",
        "      labelElement = document.createElement('span');\n",
        "      labelElement.innerText = 'No data';\n",
        "      labelElement.style.fontWeight = 'bold';\n",
        "      modelOut.appendChild(labelElement);\n",
        "      div.appendChild(modelOut);\n",
        "\n",
        "      video = document.createElement('video');\n",
        "      video.style.display = 'block';\n",
        "      video.width = div.clientWidth - 6;\n",
        "      video.setAttribute('playsinline', '');\n",
        "      video.onclick = () => { shutdown = true; };\n",
        "      stream = await navigator.mediaDevices.getUserMedia(\n",
        "          {video: { facingMode: \"environment\"}});\n",
        "      div.appendChild(video);\n",
        "\n",
        "      imgElement = document.createElement('img');\n",
        "      imgElement.style.position = 'absolute';\n",
        "      imgElement.style.zIndex = 1;\n",
        "      imgElement.onclick = () => { shutdown = true; };\n",
        "      div.appendChild(imgElement);\n",
        "\n",
        "      const instruction = document.createElement('div');\n",
        "      instruction.innerHTML =\n",
        "          '<span style=\"color: red; font-weight: bold;\">' +\n",
        "          'When finished, click here or on the video to stop this demo</span>';\n",
        "      div.appendChild(instruction);\n",
        "      instruction.onclick = () => { shutdown = true; };\n",
        "\n",
        "      video.srcObject = stream;\n",
        "      await video.play();\n",
        "\n",
        "      captureCanvas = document.createElement('canvas');\n",
        "      captureCanvas.width = 640; //video.videoWidth;\n",
        "      captureCanvas.height = 480; //video.videoHeight;\n",
        "      window.requestAnimationFrame(onAnimationFrame);\n",
        "\n",
        "      return stream;\n",
        "    }\n",
        "    async function stream_frame(label, imgData) {\n",
        "      if (shutdown) {\n",
        "        removeDom();\n",
        "        shutdown = false;\n",
        "        return '';\n",
        "      }\n",
        "\n",
        "      var preCreate = Date.now();\n",
        "      stream = await createDom();\n",
        "\n",
        "      var preShow = Date.now();\n",
        "      if (label != \"\") {\n",
        "        labelElement.innerHTML = label;\n",
        "      }\n",
        "\n",
        "      if (imgData != \"\") {\n",
        "        var videoRect = video.getClientRects()[0];\n",
        "        imgElement.style.top = videoRect.top + \"px\";\n",
        "        imgElement.style.left = videoRect.left + \"px\";\n",
        "        imgElement.style.width = videoRect.width + \"px\";\n",
        "        imgElement.style.height = videoRect.height + \"px\";\n",
        "        imgElement.src = imgData;\n",
        "      }\n",
        "\n",
        "      var preCapture = Date.now();\n",
        "      var result = await new Promise(function(resolve, reject) {\n",
        "        pendingResolve = resolve;\n",
        "      });\n",
        "      shutdown = false;\n",
        "\n",
        "      return {'create': preShow - preCreate,\n",
        "              'show': preCapture - preShow,\n",
        "              'capture': Date.now() - preCapture,\n",
        "              'img': result};\n",
        "    }\n",
        "    ''')\n",
        "\n",
        "  display(js)\n",
        "\n",
        "def video_frame(label, bbox):\n",
        "  data = eval_js('stream_frame(\"{}\", \"{}\")'.format(label, bbox))\n",
        "  return data"
      ],
      "metadata": {
        "id": "E2Fq_gOiYnwO"
      },
      "execution_count": null,
      "outputs": []
    },
    {
      "cell_type": "code",
      "source": [
        "# Function to recognize a face (if it is in known_faces)\n",
        "\n",
        "def recognize(img, known_embeddings, threshold = 0.3):\n",
        "\n",
        "  scores = defaultdict(int)\n",
        "\n",
        "  enc = embed(img)\n",
        "\n",
        "  for person, emb_lst in known_embeddings.items():\n",
        "    if len(emb_lst) > 0:\n",
        "      for emb in emb_lst:\n",
        "        scores[person] += torch.nn.functional.cosine_similarity(enc, emb)\n",
        "\n",
        "\n",
        "    scores[person] /= len(emb_lst)\n",
        "\n",
        "  if not scores:\n",
        "    return ('UNKNOWN', 0)\n",
        "\n",
        "  match = max(scores, key=scores.get)\n",
        "  score = scores[match].detach()[0]\n",
        "\n",
        "  if score > 0.3:\n",
        "    return (match, f'{score:2f}')\n",
        "\n",
        "  else:\n",
        "    return ('UNKNOWN', 0)\n",
        "\n",
        "# Function to perform real-time face recognition through a webcam\n",
        "\n",
        "def face_recognition(known_embeddings, detector = detector, threshold = 0.75):\n",
        "\n",
        "  # start streaming video from webcam\n",
        "  video_stream()\n",
        "  # label for video\n",
        "  label_html = 'Capturing...'\n",
        "  bbox_data = '' # Initialize bbox_data for the JavaScript function\n",
        "\n",
        "  while True:\n",
        "    # Pass an empty string for bbox_data initially, or adapt JS to receive bbox\n",
        "    # For simplicity, let's not pass bbox data to JS for now and draw on img\n",
        "    js_reply = video_frame(label_html, '') # Pass empty string instead of bbox\n",
        "    if not js_reply:\n",
        "        break\n",
        "\n",
        "    # convert JS response to OpenCV Image\n",
        "    img = js_to_image(js_reply[\"img\"])\n",
        "\n",
        "    # Recognize and get label, score, and bbox\n",
        "    faces = detect_crop_haar(img)\n",
        "\n",
        "    if faces is None:\n",
        "      cv2.putText(img, 'No Face Detected', (50, 50), cv2.FONT_HERSHEY_SIMPLEX, 0.9, (0, 255, 0), 2)\n",
        "      # Convert the OpenCV image back to a base64 string\n",
        "      img_bytes = cv2.imencode('.jpg', img)[1].tobytes()\n",
        "      img_base64 = b64encode(img_bytes).decode('utf-8')\n",
        "      bbox_data = 'data:image/jpeg;base64,' + img_base64 # Format for imgElement.src\n",
        "      # Update label and image data for the next frame\n",
        "      label_html = 'No Face Detected'\n",
        "      js_reply = video_frame(label_html, bbox_data)\n",
        "\n",
        "    else:\n",
        "      for (face, bbox) in faces:\n",
        "        label, score = recognize(face, known_embeddings)\n",
        "\n",
        "        # Draw bounding box and text on the image if a face is detected\n",
        "        if bbox is not None:\n",
        "            x, y, w, h = bbox\n",
        "            cv2.rectangle(img, (x, y), (x+w, y+h), (0, 255, 0), 2)\n",
        "            # Put text near the bounding box, adjust position as needed\n",
        "            cv2.putText(img, f'{label} {score}', (x, y - 10), cv2.FONT_HERSHEY_SIMPLEX, 0.9, (0, 255, 0), 2)\n",
        "\n",
        "            # Convert the OpenCV image back to a base64 string\n",
        "            # encode OpenCV image to JPEG data\n",
        "            img_bytes = cv2.imencode('.jpg', img)[1].tobytes()\n",
        "            # convert numpy array to base64 string\n",
        "            img_base64 = b64encode(img_bytes).decode('utf-8')\n",
        "            bbox_data = 'data:image/jpeg;base64,' + img_base64 # Format for imgElement.src\n",
        "\n",
        "            # Update label and image data for the next frame\n",
        "            label_html = f'{label} (Score: {score})'\n",
        "            js_reply = video_frame(label_html, bbox_data) # Pass the image with drawn elements\n",
        "\n",
        "    if not js_reply:\n",
        "        break"
      ],
      "metadata": {
        "id": "tw48jek5T7vX"
      },
      "execution_count": null,
      "outputs": []
    },
    {
      "cell_type": "code",
      "source": [
        "# Optimized Function to recognize a face (if it is in known_faces)\n",
        "\n",
        "INT_MIN = -1e30\n",
        "\n",
        "def recognize(enc, known_dict, threshold = 0.5):\n",
        "  scores = defaultdict(int)\n",
        "\n",
        "  maxi = INT_MIN\n",
        "  rec_name = None\n",
        "\n",
        "  for name in known_people:\n",
        "    score = np.mean(known_dict[name] @ enc)\n",
        "\n",
        "    if score > maxi:\n",
        "      maxi = score\n",
        "      rec_name = name\n",
        "\n",
        "  return (rec_name, f'{maxi:2f}')"
      ],
      "metadata": {
        "id": "mESbLlUdszV0"
      },
      "execution_count": null,
      "outputs": []
    },
    {
      "cell_type": "code",
      "source": [
        "\n",
        "# Function to perform real-time face recognition through a webcam\n",
        "def face_recognition(known_dict, detector = detector, threshold = 0.75):\n",
        "\n",
        "  # start streaming video from webcam\n",
        "  video_stream()\n",
        "  # label for video\n",
        "  label_html = 'Capturing...'\n",
        "  bbox_data = '' # Initialize bbox_data for the JavaScript function\n",
        "\n",
        "  while True:\n",
        "    # Pass an empty string for bbox_data initially, or adapt JS to receive bbox\n",
        "    # For simplicity, let's not pass bbox data to JS for now and draw on img\n",
        "    js_reply = video_frame(label_html, '') # Pass empty string instead of bbox\n",
        "    if not js_reply:\n",
        "        break\n",
        "\n",
        "    # convert JS response to OpenCV Image\n",
        "    img = js_to_image(js_reply[\"img\"])\n",
        "\n",
        "    # Convert the loaded image to a NumPy array of type uint8\n",
        "    img_np = np.array(img, dtype=np.uint8)\n",
        "    result = detect_crop_haar(img_np) # Pass the converted image to detect_crop\n",
        "\n",
        "\n",
        "\n",
        "    if result is None:\n",
        "      cv2.putText(img, 'No Face Detected', (50, 50), cv2.FONT_HERSHEY_SIMPLEX, 0.9, (0, 255, 0), 2)\n",
        "      # Convert the OpenCV image back to a base64 string\n",
        "      img_bytes = cv2.imencode('.jpg', img)[1].tobytes()\n",
        "      img_base64 = b64encode(img_bytes).decode('utf-8')\n",
        "      bbox_data = 'data:image/jpeg;base64,' + img_base64 # Format for imgElement.src\n",
        "      # Update label and image data for the next frame\n",
        "      label_html = 'No Face Detected'\n",
        "      js_reply = video_frame(label_html, bbox_data)\n",
        "\n",
        "    else:\n",
        "      for bbox in result: # Iterate through detected faces if multiple\n",
        "        crop = img_np[bbox[1]:bbox[1]+bbox[3], bbox[0]:bbox[0]+bbox[2]]\n",
        "        enc = embed(crop)\n",
        "        label, score = recognize(enc, known_dict)\n",
        "\n",
        "        # Draw bounding box and text on the image if a face is detected\n",
        "        if bbox is not None:\n",
        "            x, y, w, h = bbox\n",
        "            cv2.rectangle(img, (x, y), (x+w, y+h), (0, 255, 0), 2)\n",
        "            # Put text near the bounding box, adjust position as needed\n",
        "            cv2.putText(img, f'{label} {score}', (x, y - 10), cv2.FONT_HERSHEY_SIMPLEX, 0.9, (0, 255, 0), 2)\n",
        "\n",
        "            # Convert the OpenCV image back to a base64 string\n",
        "            # encode OpenCV image to JPEG data\n",
        "            img_bytes = cv2.imencode('.jpg', img)[1].tobytes()\n",
        "            # convert numpy array to base64 string\n",
        "            img_base64 = b64encode(img_bytes).decode('utf-8')\n",
        "            bbox_data = 'data:image/jpeg;base64,' + img_base64 # Format for imgElement.src\n",
        "\n",
        "            # Update label and image data for the next frame\n",
        "            label_html = f'{label} (Score: {score})'\n",
        "            js_reply = video_frame(label_html, bbox_data) # Pass the image with drawn elements\n",
        "\n",
        "    if not js_reply:\n",
        "        break"
      ],
      "metadata": {
        "id": "z1_CR9EaFSqB"
      },
      "execution_count": null,
      "outputs": []
    },
    {
      "cell_type": "code",
      "source": [
        "face_recognition(known_dict)"
      ],
      "metadata": {
        "id": "Gf4lQgTRWdMp"
      },
      "execution_count": null,
      "outputs": []
    },
    {
      "cell_type": "code",
      "source": [
        "result"
      ],
      "metadata": {
        "id": "nyPziHektuuj"
      },
      "execution_count": null,
      "outputs": []
    },
    {
      "cell_type": "code",
      "source": [],
      "metadata": {
        "id": "BEznVPKWuN8I"
      },
      "execution_count": null,
      "outputs": []
    }
  ]
}