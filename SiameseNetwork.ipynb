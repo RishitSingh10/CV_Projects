{
  "nbformat": 4,
  "nbformat_minor": 0,
  "metadata": {
    "colab": {
      "provenance": [],
      "gpuType": "T4"
    },
    "kernelspec": {
      "name": "python3",
      "display_name": "Python 3"
    },
    "language_info": {
      "name": "python"
    },
    "accelerator": "GPU",
    "widgets": {
      "application/vnd.jupyter.widget-state+json": {
        "a3e7c01399474eebafa2ed24a7fdc67e": {
          "model_module": "@jupyter-widgets/controls",
          "model_name": "HBoxModel",
          "model_module_version": "1.5.0",
          "state": {
            "_dom_classes": [],
            "_model_module": "@jupyter-widgets/controls",
            "_model_module_version": "1.5.0",
            "_model_name": "HBoxModel",
            "_view_count": null,
            "_view_module": "@jupyter-widgets/controls",
            "_view_module_version": "1.5.0",
            "_view_name": "HBoxView",
            "box_style": "",
            "children": [
              "IPY_MODEL_af3efe4bb5ab455a9589d41e5e1b6ec4",
              "IPY_MODEL_f20ff797f389450ea0712ff25c9652d2",
              "IPY_MODEL_adab807c782a4429bad086c390da504f"
            ],
            "layout": "IPY_MODEL_b16d161b5f7c4ac6be7402b4a34c4978"
          }
        },
        "af3efe4bb5ab455a9589d41e5e1b6ec4": {
          "model_module": "@jupyter-widgets/controls",
          "model_name": "HTMLModel",
          "model_module_version": "1.5.0",
          "state": {
            "_dom_classes": [],
            "_model_module": "@jupyter-widgets/controls",
            "_model_module_version": "1.5.0",
            "_model_name": "HTMLModel",
            "_view_count": null,
            "_view_module": "@jupyter-widgets/controls",
            "_view_module_version": "1.5.0",
            "_view_name": "HTMLView",
            "description": "",
            "description_tooltip": null,
            "layout": "IPY_MODEL_fcd3191d0b0f4e0e918c7cab7d368426",
            "placeholder": "​",
            "style": "IPY_MODEL_f90f2a00831741fd91ae57ddb5fc4de0",
            "value": "100%"
          }
        },
        "f20ff797f389450ea0712ff25c9652d2": {
          "model_module": "@jupyter-widgets/controls",
          "model_name": "FloatProgressModel",
          "model_module_version": "1.5.0",
          "state": {
            "_dom_classes": [],
            "_model_module": "@jupyter-widgets/controls",
            "_model_module_version": "1.5.0",
            "_model_name": "FloatProgressModel",
            "_view_count": null,
            "_view_module": "@jupyter-widgets/controls",
            "_view_module_version": "1.5.0",
            "_view_name": "ProgressView",
            "bar_style": "success",
            "description": "",
            "description_tooltip": null,
            "layout": "IPY_MODEL_d3bcfe5006fa4e6e81f57e9a021e43a0",
            "max": 111898327,
            "min": 0,
            "orientation": "horizontal",
            "style": "IPY_MODEL_c97d692a15e34eb48b280e96882130cb",
            "value": 111898327
          }
        },
        "adab807c782a4429bad086c390da504f": {
          "model_module": "@jupyter-widgets/controls",
          "model_name": "HTMLModel",
          "model_module_version": "1.5.0",
          "state": {
            "_dom_classes": [],
            "_model_module": "@jupyter-widgets/controls",
            "_model_module_version": "1.5.0",
            "_model_name": "HTMLModel",
            "_view_count": null,
            "_view_module": "@jupyter-widgets/controls",
            "_view_module_version": "1.5.0",
            "_view_name": "HTMLView",
            "description": "",
            "description_tooltip": null,
            "layout": "IPY_MODEL_58b26cde5590467ea8bd595f326eb0d4",
            "placeholder": "​",
            "style": "IPY_MODEL_e0cd5863325a4750b991e627b639d84e",
            "value": " 107M/107M [00:00&lt;00:00, 131MB/s]"
          }
        },
        "b16d161b5f7c4ac6be7402b4a34c4978": {
          "model_module": "@jupyter-widgets/base",
          "model_name": "LayoutModel",
          "model_module_version": "1.2.0",
          "state": {
            "_model_module": "@jupyter-widgets/base",
            "_model_module_version": "1.2.0",
            "_model_name": "LayoutModel",
            "_view_count": null,
            "_view_module": "@jupyter-widgets/base",
            "_view_module_version": "1.2.0",
            "_view_name": "LayoutView",
            "align_content": null,
            "align_items": null,
            "align_self": null,
            "border": null,
            "bottom": null,
            "display": null,
            "flex": null,
            "flex_flow": null,
            "grid_area": null,
            "grid_auto_columns": null,
            "grid_auto_flow": null,
            "grid_auto_rows": null,
            "grid_column": null,
            "grid_gap": null,
            "grid_row": null,
            "grid_template_areas": null,
            "grid_template_columns": null,
            "grid_template_rows": null,
            "height": null,
            "justify_content": null,
            "justify_items": null,
            "left": null,
            "margin": null,
            "max_height": null,
            "max_width": null,
            "min_height": null,
            "min_width": null,
            "object_fit": null,
            "object_position": null,
            "order": null,
            "overflow": null,
            "overflow_x": null,
            "overflow_y": null,
            "padding": null,
            "right": null,
            "top": null,
            "visibility": null,
            "width": null
          }
        },
        "fcd3191d0b0f4e0e918c7cab7d368426": {
          "model_module": "@jupyter-widgets/base",
          "model_name": "LayoutModel",
          "model_module_version": "1.2.0",
          "state": {
            "_model_module": "@jupyter-widgets/base",
            "_model_module_version": "1.2.0",
            "_model_name": "LayoutModel",
            "_view_count": null,
            "_view_module": "@jupyter-widgets/base",
            "_view_module_version": "1.2.0",
            "_view_name": "LayoutView",
            "align_content": null,
            "align_items": null,
            "align_self": null,
            "border": null,
            "bottom": null,
            "display": null,
            "flex": null,
            "flex_flow": null,
            "grid_area": null,
            "grid_auto_columns": null,
            "grid_auto_flow": null,
            "grid_auto_rows": null,
            "grid_column": null,
            "grid_gap": null,
            "grid_row": null,
            "grid_template_areas": null,
            "grid_template_columns": null,
            "grid_template_rows": null,
            "height": null,
            "justify_content": null,
            "justify_items": null,
            "left": null,
            "margin": null,
            "max_height": null,
            "max_width": null,
            "min_height": null,
            "min_width": null,
            "object_fit": null,
            "object_position": null,
            "order": null,
            "overflow": null,
            "overflow_x": null,
            "overflow_y": null,
            "padding": null,
            "right": null,
            "top": null,
            "visibility": null,
            "width": null
          }
        },
        "f90f2a00831741fd91ae57ddb5fc4de0": {
          "model_module": "@jupyter-widgets/controls",
          "model_name": "DescriptionStyleModel",
          "model_module_version": "1.5.0",
          "state": {
            "_model_module": "@jupyter-widgets/controls",
            "_model_module_version": "1.5.0",
            "_model_name": "DescriptionStyleModel",
            "_view_count": null,
            "_view_module": "@jupyter-widgets/base",
            "_view_module_version": "1.2.0",
            "_view_name": "StyleView",
            "description_width": ""
          }
        },
        "d3bcfe5006fa4e6e81f57e9a021e43a0": {
          "model_module": "@jupyter-widgets/base",
          "model_name": "LayoutModel",
          "model_module_version": "1.2.0",
          "state": {
            "_model_module": "@jupyter-widgets/base",
            "_model_module_version": "1.2.0",
            "_model_name": "LayoutModel",
            "_view_count": null,
            "_view_module": "@jupyter-widgets/base",
            "_view_module_version": "1.2.0",
            "_view_name": "LayoutView",
            "align_content": null,
            "align_items": null,
            "align_self": null,
            "border": null,
            "bottom": null,
            "display": null,
            "flex": null,
            "flex_flow": null,
            "grid_area": null,
            "grid_auto_columns": null,
            "grid_auto_flow": null,
            "grid_auto_rows": null,
            "grid_column": null,
            "grid_gap": null,
            "grid_row": null,
            "grid_template_areas": null,
            "grid_template_columns": null,
            "grid_template_rows": null,
            "height": null,
            "justify_content": null,
            "justify_items": null,
            "left": null,
            "margin": null,
            "max_height": null,
            "max_width": null,
            "min_height": null,
            "min_width": null,
            "object_fit": null,
            "object_position": null,
            "order": null,
            "overflow": null,
            "overflow_x": null,
            "overflow_y": null,
            "padding": null,
            "right": null,
            "top": null,
            "visibility": null,
            "width": null
          }
        },
        "c97d692a15e34eb48b280e96882130cb": {
          "model_module": "@jupyter-widgets/controls",
          "model_name": "ProgressStyleModel",
          "model_module_version": "1.5.0",
          "state": {
            "_model_module": "@jupyter-widgets/controls",
            "_model_module_version": "1.5.0",
            "_model_name": "ProgressStyleModel",
            "_view_count": null,
            "_view_module": "@jupyter-widgets/base",
            "_view_module_version": "1.2.0",
            "_view_name": "StyleView",
            "bar_color": null,
            "description_width": ""
          }
        },
        "58b26cde5590467ea8bd595f326eb0d4": {
          "model_module": "@jupyter-widgets/base",
          "model_name": "LayoutModel",
          "model_module_version": "1.2.0",
          "state": {
            "_model_module": "@jupyter-widgets/base",
            "_model_module_version": "1.2.0",
            "_model_name": "LayoutModel",
            "_view_count": null,
            "_view_module": "@jupyter-widgets/base",
            "_view_module_version": "1.2.0",
            "_view_name": "LayoutView",
            "align_content": null,
            "align_items": null,
            "align_self": null,
            "border": null,
            "bottom": null,
            "display": null,
            "flex": null,
            "flex_flow": null,
            "grid_area": null,
            "grid_auto_columns": null,
            "grid_auto_flow": null,
            "grid_auto_rows": null,
            "grid_column": null,
            "grid_gap": null,
            "grid_row": null,
            "grid_template_areas": null,
            "grid_template_columns": null,
            "grid_template_rows": null,
            "height": null,
            "justify_content": null,
            "justify_items": null,
            "left": null,
            "margin": null,
            "max_height": null,
            "max_width": null,
            "min_height": null,
            "min_width": null,
            "object_fit": null,
            "object_position": null,
            "order": null,
            "overflow": null,
            "overflow_x": null,
            "overflow_y": null,
            "padding": null,
            "right": null,
            "top": null,
            "visibility": null,
            "width": null
          }
        },
        "e0cd5863325a4750b991e627b639d84e": {
          "model_module": "@jupyter-widgets/controls",
          "model_name": "DescriptionStyleModel",
          "model_module_version": "1.5.0",
          "state": {
            "_model_module": "@jupyter-widgets/controls",
            "_model_module_version": "1.5.0",
            "_model_name": "DescriptionStyleModel",
            "_view_count": null,
            "_view_module": "@jupyter-widgets/base",
            "_view_module_version": "1.2.0",
            "_view_name": "StyleView",
            "description_width": ""
          }
        }
      }
    }
  },
  "cells": [
    {
      "cell_type": "markdown",
      "source": [
        "## Face Recognition System using Siamese Network"
      ],
      "metadata": {
        "id": "nfhiuPuO5N9W"
      }
    },
    {
      "cell_type": "code",
      "execution_count": null,
      "metadata": {
        "id": "ehNXc1Sw5Ksj",
        "colab": {
          "base_uri": "https://localhost:8080/"
        },
        "outputId": "d6461504-a535-48fb-96d7-50399aa386f7"
      },
      "outputs": [
        {
          "output_type": "stream",
          "name": "stdout",
          "text": [
            "Mounted at /content/drive\n"
          ]
        }
      ],
      "source": [
        "from google.colab import drive\n",
        "drive.mount('/content/drive')"
      ]
    },
    {
      "cell_type": "code",
      "source": [
        "import os\n",
        "\n",
        "path = \"/content/drive/MyDrive/face_recognition/\"\n",
        "os.chdir(path)"
      ],
      "metadata": {
        "id": "EQvOPof5m8q_"
      },
      "execution_count": null,
      "outputs": []
    },
    {
      "cell_type": "code",
      "source": [
        "%%capture\n",
        "!pip uninstall -y numpy torchvision torch pillow\n",
        "!pip install facenet-pytorch torchvision torch pillow numpy==1.26.4\n",
        "!pip install mtcnn"
      ],
      "metadata": {
        "id": "j6_e-98PqHmV"
      },
      "execution_count": null,
      "outputs": []
    },
    {
      "cell_type": "code",
      "source": [
        "# Restart session in case of an error on Colab\n",
        "\n",
        "from facenet_pytorch import InceptionResnetV1\n",
        "\n",
        "# Create an inception resnet (in eval mode):\n",
        "resnet = InceptionResnetV1(pretrained='vggface2').eval()"
      ],
      "metadata": {
        "id": "MqQd6BBL3vXn",
        "colab": {
          "base_uri": "https://localhost:8080/",
          "height": 49,
          "referenced_widgets": [
            "a3e7c01399474eebafa2ed24a7fdc67e",
            "af3efe4bb5ab455a9589d41e5e1b6ec4",
            "f20ff797f389450ea0712ff25c9652d2",
            "adab807c782a4429bad086c390da504f",
            "b16d161b5f7c4ac6be7402b4a34c4978",
            "fcd3191d0b0f4e0e918c7cab7d368426",
            "f90f2a00831741fd91ae57ddb5fc4de0",
            "d3bcfe5006fa4e6e81f57e9a021e43a0",
            "c97d692a15e34eb48b280e96882130cb",
            "58b26cde5590467ea8bd595f326eb0d4",
            "e0cd5863325a4750b991e627b639d84e"
          ]
        },
        "outputId": "71373bfb-2dfb-4d69-dfcc-1b1925f8d86d"
      },
      "execution_count": null,
      "outputs": [
        {
          "output_type": "display_data",
          "data": {
            "text/plain": [
              "  0%|          | 0.00/107M [00:00<?, ?B/s]"
            ],
            "application/vnd.jupyter.widget-view+json": {
              "version_major": 2,
              "version_minor": 0,
              "model_id": "a3e7c01399474eebafa2ed24a7fdc67e"
            }
          },
          "metadata": {}
        }
      ]
    },
    {
      "cell_type": "code",
      "source": [
        "import numpy as np\n",
        "\n",
        "np.__version__"
      ],
      "metadata": {
        "id": "PELj2eoC6cm_",
        "colab": {
          "base_uri": "https://localhost:8080/",
          "height": 35
        },
        "outputId": "3b965c54-1ca2-4492-8863-6446c67d5a49"
      },
      "execution_count": null,
      "outputs": [
        {
          "output_type": "execute_result",
          "data": {
            "text/plain": [
              "'1.26.4'"
            ],
            "application/vnd.google.colaboratory.intrinsic+json": {
              "type": "string"
            }
          },
          "metadata": {},
          "execution_count": 3
        }
      ]
    },
    {
      "cell_type": "markdown",
      "source": [
        "### Detect Faces using MTCNN and Creating embeddings using InceptionResnetV1"
      ],
      "metadata": {
        "id": "GBEeanBwDRj4"
      }
    },
    {
      "cell_type": "code",
      "source": [
        "import cv2\n",
        "import numpy as np\n",
        "import torch\n",
        "import matplotlib.pyplot as plt\n",
        "from mtcnn import MTCNN\n",
        "from mtcnn.utils.images import load_image\n",
        "from collections import defaultdict\n",
        "from tqdm import tqdm\n",
        "import time"
      ],
      "metadata": {
        "id": "5Rwy8lwGnN24"
      },
      "execution_count": null,
      "outputs": []
    },
    {
      "cell_type": "code",
      "source": [
        "device = 'GPU:0' if torch.cuda.is_available() else 'CPU:0'\n",
        "detector = MTCNN(device='CPU:0')  # Initialize MTCNN with the selected device"
      ],
      "metadata": {
        "id": "kuRrOm4XjsZe"
      },
      "execution_count": null,
      "outputs": []
    },
    {
      "cell_type": "code",
      "source": [
        "device"
      ],
      "metadata": {
        "colab": {
          "base_uri": "https://localhost:8080/",
          "height": 35
        },
        "id": "vc1bB95puUxn",
        "outputId": "4ee17f5e-7306-439c-dd58-de983930f39b"
      },
      "execution_count": null,
      "outputs": [
        {
          "output_type": "execute_result",
          "data": {
            "text/plain": [
              "'GPU:0'"
            ],
            "application/vnd.google.colaboratory.intrinsic+json": {
              "type": "string"
            }
          },
          "metadata": {},
          "execution_count": 48
        }
      ]
    },
    {
      "cell_type": "markdown",
      "source": [
        "### Calculate Embeddings"
      ],
      "metadata": {
        "id": "nE9cXfksozH1"
      }
    },
    {
      "cell_type": "code",
      "source": [
        "\n",
        "def detect_crop(img, detector):\n",
        "  # Detect faces in the image\n",
        "  result = detector.detect_faces(img)\n",
        "\n",
        "  if len(result) == 0:\n",
        "    return None\n",
        "\n",
        "  imgs = []\n",
        "  for i in range(len(result)):\n",
        "    bbox = result[i]['box']\n",
        "    imgs.append((img[bbox[1]:bbox[1]+bbox[3], bbox[0]:bbox[0]+bbox[2]], bbox))\n",
        "\n",
        "  return imgs\n",
        "\n",
        "\n",
        "def embed(img1):\n",
        "\n",
        "  img1 = cv2.resize(img1, (160, 160))\n",
        "  img1 = img1[:,:,:3]\n",
        "\n",
        "  # Normalize\n",
        "  mean = np.mean(img1, axis=(0,1,2), keepdims=True)\n",
        "  std = np.std(img1, axis=(0,1,2), keepdims=True)\n",
        "  img1 = (img1 - mean) / std\n",
        "\n",
        "  img1 = torch.tensor(img1, dtype=torch.float32)\n",
        "  img1 = img1.permute(2, 0, 1) # Permute to (C, H, W)\n",
        "  img_embedding = resnet(img1.unsqueeze(0))\n",
        "\n",
        "\n",
        "  return img_embedding\n",
        "\n",
        "# Evaluating time taken by \"for loops\" for detecting and generating embeddings for each of the known faces\n",
        "\n",
        "start = time.time()\n",
        "\n",
        "# List of known people\n",
        "known_people = os.listdir('./Face_database/')\n",
        "\n",
        "\n",
        "known_embeddings = defaultdict(list)\n",
        "\n",
        "for people in tqdm(known_people, 'Processing Faces'):\n",
        "  path = f'./Face_database/{people}/'\n",
        "  for img in os.listdir(path):\n",
        "    pth = os.path.join(path, img)\n",
        "    img = load_image(pth)\n",
        "    imgs = detect_crop(img, detector)\n",
        "    img_embedding = embed(imgs[0][0])\n",
        "    known_embeddings[people].append(img_embedding)\n",
        "\n",
        "end = time.time()\n",
        "\n",
        "print(f\"Time taken = {end - start}\")"
      ],
      "metadata": {
        "id": "smTCJJKsw1YD",
        "colab": {
          "base_uri": "https://localhost:8080/"
        },
        "outputId": "5f1f3ae0-a251-48b0-c5d3-88f46fe2419e"
      },
      "execution_count": null,
      "outputs": [
        {
          "output_type": "stream",
          "name": "stderr",
          "text": [
            "Processing Faces: 100%|██████████| 3/3 [06:09<00:00, 123.27s/it]"
          ]
        },
        {
          "output_type": "stream",
          "name": "stdout",
          "text": [
            "Time taken = 369.831018447876\n"
          ]
        },
        {
          "output_type": "stream",
          "name": "stderr",
          "text": [
            "\n"
          ]
        }
      ]
    },
    {
      "cell_type": "markdown",
      "source": [
        "### Re Calculating Embeddings using Haar Cascade Detector\n",
        "\n",
        "Faster than mtcnn"
      ],
      "metadata": {
        "id": "Vj1tINmro2iw"
      }
    },
    {
      "cell_type": "code",
      "source": [
        "# OPTIMIZING CODE USING VECTORIZATION\n",
        "face_cascade = cv2.CascadeClassifier(cv2.data.haarcascades + 'haarcascade_frontalface_default.xml')\n",
        "\n",
        "def detect_crop_mtcnn(img):\n",
        "  # Detect faces in the image\n",
        "  result = detector.detect_faces(img)\n",
        "\n",
        "  if len(result) == 0:\n",
        "    return None\n",
        "\n",
        "  return result\n",
        "\n",
        "\n",
        "\n",
        "def detect_crop_haar(img):\n",
        "    # Convert image to grayscale (Haar Cascade works on grayscale images)\n",
        "    # Ensure the input image is in a suitable format (e.g., uint8) for cv2.cvtColor\n",
        "    gray = cv2.cvtColor(img, cv2.COLOR_BGR2GRAY)\n",
        "\n",
        "    # Detect faces using Haar cascade\n",
        "    faces = face_cascade.detectMultiScale(gray, scaleFactor=1.1, minNeighbors=5)\n",
        "\n",
        "    if len(faces) == 0:\n",
        "        return None\n",
        "\n",
        "    return faces  # returns list of rectangles (x, y, w, h)\n",
        "\n",
        "def embed(img1):\n",
        "\n",
        "  img1 = cv2.resize(img1, (160, 160))\n",
        "  img1 = img1[:,:,:3] # Ignore ther transparency channel incase of a png image\n",
        "\n",
        "  # Normalize\n",
        "  mean = np.mean(img1, axis=(0,1,2), keepdims=True)\n",
        "  std = np.std(img1, axis=(0,1,2), keepdims=True)\n",
        "  img1 = (img1 - mean) / std\n",
        "\n",
        "  img1 = torch.tensor(img1, dtype=torch.float32)\n",
        "  img1 = img1.permute(2, 0, 1) # Permute to (C, H, W)\n",
        "  img_embedding = resnet(img1.unsqueeze(0)).detach().numpy()\n",
        "\n",
        "  # Normalize embedding\n",
        "  img_embedding = img_embedding / np.linalg.norm(img_embedding)\n",
        "\n",
        "  return img_embedding.squeeze()\n",
        "\n",
        "\n",
        "start = time.time()\n",
        "\n",
        "# List of known people\n",
        "known_people = os.listdir('./Face_database/')\n",
        "\n",
        "# Saving paths of images for known people in a dict\n",
        "known_dict = defaultdict(list)\n",
        "\n",
        "\n",
        "for name in known_people:\n",
        "  imgs = os.listdir(f'./Face_database/{name}/')\n",
        "  for img_name in imgs:\n",
        "    pth = os.path.join(f'./Face_database/{name}/', img_name)\n",
        "    img = load_image(pth)\n",
        "    result = detect_crop_mtcnn(img) # Pass the converted image to detect_crop\n",
        "    if result: # Changed condition to check if result is not None\n",
        "      bbox = result[0]['box']\n",
        "      crop = img[bbox[1]:bbox[1]+bbox[3], bbox[0]:bbox[0]+bbox[2]]\n",
        "      known_dict[name].append(embed(crop))\n",
        "\n",
        "  known_dict[name] = np.array(known_dict[name])\n",
        "\n",
        "end = time.time()\n",
        "\n",
        "print(f\"Time taken = {end - start}\")"
      ],
      "metadata": {
        "colab": {
          "base_uri": "https://localhost:8080/"
        },
        "id": "EQAhbq49xGeX",
        "outputId": "a3cc6c69-ab76-47f2-c9f4-4d512be738b1"
      },
      "execution_count": null,
      "outputs": [
        {
          "output_type": "stream",
          "name": "stdout",
          "text": [
            "Time taken = 244.6474187374115\n"
          ]
        }
      ]
    },
    {
      "cell_type": "code",
      "source": [
        "# save the known_dict using pickle\n",
        "import pickle\n",
        "\n",
        "with open('embeddings.pkl', 'wb') as f:\n",
        "  pickle.dump(known_dict, f)\n",
        "\n",
        "\n",
        "# Load saved embeddings\n",
        "with open('embeddings.pkl', 'rb') as f:\n",
        "    known_dict = pickle.load(f)\n"
      ],
      "metadata": {
        "id": "axPgg2XhR_Pi"
      },
      "execution_count": null,
      "outputs": []
    },
    {
      "cell_type": "code",
      "source": [
        "# import dependencies\n",
        "from IPython.display import display, Javascript, Image\n",
        "from google.colab.output import eval_js\n",
        "from base64 import b64decode, b64encode\n",
        "import cv2\n",
        "import numpy as np\n",
        "import PIL\n",
        "import io\n",
        "import html\n",
        "import time"
      ],
      "metadata": {
        "id": "yMFz5m9qX2V8"
      },
      "execution_count": null,
      "outputs": []
    },
    {
      "cell_type": "code",
      "source": [
        "# function to convert the JavaScript object into an OpenCV image\n",
        "def js_to_image(js_reply):\n",
        "  \"\"\"\n",
        "  Params:\n",
        "          js_reply: JavaScript object containing image from webcam\n",
        "  Returns:\n",
        "          img: OpenCV BGR image\n",
        "  \"\"\"\n",
        "  # decode base64 image\n",
        "  image_bytes = b64decode(js_reply.split(',')[1])\n",
        "  # convert bytes to numpy array\n",
        "  jpg_as_np = np.frombuffer(image_bytes, dtype=np.uint8)\n",
        "  # decode numpy array into OpenCV BGR image\n",
        "  img = cv2.imdecode(jpg_as_np, flags=1)\n",
        "\n",
        "  return img"
      ],
      "metadata": {
        "id": "gwGfFkgFYCUi"
      },
      "execution_count": null,
      "outputs": []
    },
    {
      "cell_type": "code",
      "source": [
        "# JavaScript to properly create our live video stream using our webcam as input\n",
        "def video_stream():\n",
        "  js = Javascript('''\n",
        "    var video;\n",
        "    var div = null;\n",
        "    var stream;\n",
        "    var captureCanvas;\n",
        "    var imgElement;\n",
        "    var labelElement;\n",
        "\n",
        "    var pendingResolve = null;\n",
        "    var shutdown = false;\n",
        "\n",
        "    function removeDom() {\n",
        "       stream.getVideoTracks()[0].stop();\n",
        "       video.remove();\n",
        "       div.remove();\n",
        "       video = null;\n",
        "       div = null;\n",
        "       stream = null;\n",
        "       imgElement = null;\n",
        "       captureCanvas = null;\n",
        "       labelElement = null;\n",
        "    }\n",
        "\n",
        "    function onAnimationFrame() {\n",
        "      if (!shutdown) {\n",
        "        window.requestAnimationFrame(onAnimationFrame);\n",
        "      }\n",
        "      if (pendingResolve) {\n",
        "        var result = \"\";\n",
        "        if (!shutdown) {\n",
        "          captureCanvas.getContext('2d').drawImage(video, 0, 0, 640, 480);\n",
        "          result = captureCanvas.toDataURL('image/jpeg', 0.8)\n",
        "        }\n",
        "        var lp = pendingResolve;\n",
        "        pendingResolve = null;\n",
        "        lp(result);\n",
        "      }\n",
        "    }\n",
        "\n",
        "    async function createDom() {\n",
        "      if (div !== null) {\n",
        "        return stream;\n",
        "      }\n",
        "\n",
        "      div = document.createElement('div');\n",
        "      div.style.border = '2px solid black';\n",
        "      div.style.padding = '3px';\n",
        "      div.style.width = '100%';\n",
        "      div.style.maxWidth = '600px';\n",
        "      document.body.appendChild(div);\n",
        "\n",
        "      const modelOut = document.createElement('div');\n",
        "      modelOut.innerHTML = \"<span>Status:</span>\";\n",
        "      labelElement = document.createElement('span');\n",
        "      labelElement.innerText = 'No data';\n",
        "      labelElement.style.fontWeight = 'bold';\n",
        "      modelOut.appendChild(labelElement);\n",
        "      div.appendChild(modelOut);\n",
        "\n",
        "      video = document.createElement('video');\n",
        "      video.style.display = 'block';\n",
        "      video.width = div.clientWidth - 6;\n",
        "      video.setAttribute('playsinline', '');\n",
        "      video.onclick = () => { shutdown = true; };\n",
        "      stream = await navigator.mediaDevices.getUserMedia(\n",
        "          {video: { facingMode: \"environment\"}});\n",
        "      div.appendChild(video);\n",
        "\n",
        "      imgElement = document.createElement('img');\n",
        "      imgElement.style.position = 'absolute';\n",
        "      imgElement.style.zIndex = 1;\n",
        "      imgElement.onclick = () => { shutdown = true; };\n",
        "      div.appendChild(imgElement);\n",
        "\n",
        "      const instruction = document.createElement('div');\n",
        "      instruction.innerHTML =\n",
        "          '<span style=\"color: red; font-weight: bold;\">' +\n",
        "          'When finished, click here or on the video to stop this demo</span>';\n",
        "      div.appendChild(instruction);\n",
        "      instruction.onclick = () => { shutdown = true; };\n",
        "\n",
        "      video.srcObject = stream;\n",
        "      await video.play();\n",
        "\n",
        "      captureCanvas = document.createElement('canvas');\n",
        "      captureCanvas.width = 640; //video.videoWidth;\n",
        "      captureCanvas.height = 480; //video.videoHeight;\n",
        "      window.requestAnimationFrame(onAnimationFrame);\n",
        "\n",
        "      return stream;\n",
        "    }\n",
        "    async function stream_frame(label, imgData) {\n",
        "      if (shutdown) {\n",
        "        removeDom();\n",
        "        shutdown = false;\n",
        "        return '';\n",
        "      }\n",
        "\n",
        "      var preCreate = Date.now();\n",
        "      stream = await createDom();\n",
        "\n",
        "      var preShow = Date.now();\n",
        "      if (label != \"\") {\n",
        "        labelElement.innerHTML = label;\n",
        "      }\n",
        "\n",
        "      if (imgData != \"\") {\n",
        "        var videoRect = video.getClientRects()[0];\n",
        "        imgElement.style.top = videoRect.top + \"px\";\n",
        "        imgElement.style.left = videoRect.left + \"px\";\n",
        "        imgElement.style.width = videoRect.width + \"px\";\n",
        "        imgElement.style.height = videoRect.height + \"px\";\n",
        "        imgElement.src = imgData;\n",
        "      }\n",
        "\n",
        "      var preCapture = Date.now();\n",
        "      var result = await new Promise(function(resolve, reject) {\n",
        "        pendingResolve = resolve;\n",
        "      });\n",
        "      shutdown = false;\n",
        "\n",
        "      return {'create': preShow - preCreate,\n",
        "              'show': preCapture - preShow,\n",
        "              'capture': Date.now() - preCapture,\n",
        "              'img': result};\n",
        "    }\n",
        "    ''')\n",
        "\n",
        "  display(js)\n",
        "\n",
        "def video_frame(label, bbox):\n",
        "  data = eval_js('stream_frame(\"{}\", \"{}\")'.format(label, bbox))\n",
        "  return data"
      ],
      "metadata": {
        "id": "E2Fq_gOiYnwO"
      },
      "execution_count": null,
      "outputs": []
    },
    {
      "cell_type": "code",
      "source": [
        "# Function to recognize a face (if it is in known_faces)\n",
        "\n",
        "def recognize(img, known_embeddings, threshold = 0.3):\n",
        "\n",
        "  scores = defaultdict(int)\n",
        "\n",
        "  enc = embed(img)\n",
        "\n",
        "  for person, emb_lst in known_embeddings.items():\n",
        "    if len(emb_lst) > 0:\n",
        "      for emb in emb_lst:\n",
        "        scores[person] += torch.nn.functional.cosine_similarity(enc, emb)\n",
        "\n",
        "\n",
        "    scores[person] /= len(emb_lst)\n",
        "\n",
        "  if not scores:\n",
        "    return ('UNKNOWN', 0)\n",
        "\n",
        "  match = max(scores, key=scores.get)\n",
        "  score = scores[match].detach()[0]\n",
        "\n",
        "  if score > 0.3:\n",
        "    return (match, f'{score:2f}')\n",
        "\n",
        "  else:\n",
        "    return ('UNKNOWN', 0)\n",
        "\n",
        "# Function to perform real-time face recognition through a webcam\n",
        "\n",
        "def face_recognition(known_embeddings, detector = detector, threshold = 0.75):\n",
        "\n",
        "  # start streaming video from webcam\n",
        "  video_stream()\n",
        "  # label for video\n",
        "  label_html = 'Capturing...'\n",
        "  bbox_data = '' # Initialize bbox_data for the JavaScript function\n",
        "\n",
        "  while True:\n",
        "    # Pass an empty string for bbox_data initially, or adapt JS to receive bbox\n",
        "    # For simplicity, let's not pass bbox data to JS for now and draw on img\n",
        "    js_reply = video_frame(label_html, '') # Pass empty string instead of bbox\n",
        "    if not js_reply:\n",
        "        break\n",
        "\n",
        "    # convert JS response to OpenCV Image\n",
        "    img = js_to_image(js_reply[\"img\"])\n",
        "\n",
        "    # Recognize and get label, score, and bbox\n",
        "    faces = detect_crop_haar(img)\n",
        "\n",
        "    if faces is None:\n",
        "      cv2.putText(img, 'No Face Detected', (50, 50), cv2.FONT_HERSHEY_SIMPLEX, 0.9, (0, 255, 0), 2)\n",
        "      # Convert the OpenCV image back to a base64 string\n",
        "      img_bytes = cv2.imencode('.jpg', img)[1].tobytes()\n",
        "      img_base64 = b64encode(img_bytes).decode('utf-8')\n",
        "      bbox_data = 'data:image/jpeg;base64,' + img_base64 # Format for imgElement.src\n",
        "      # Update label and image data for the next frame\n",
        "      label_html = 'No Face Detected'\n",
        "      js_reply = video_frame(label_html, bbox_data)\n",
        "\n",
        "    else:\n",
        "      for (face, bbox) in faces:\n",
        "        label, score = recognize(face, known_embeddings)\n",
        "\n",
        "        # Draw bounding box and text on the image if a face is detected\n",
        "        if bbox is not None:\n",
        "            x, y, w, h = bbox\n",
        "            cv2.rectangle(img, (x, y), (x+w, y+h), (0, 255, 0), 2)\n",
        "            # Put text near the bounding box, adjust position as needed\n",
        "            cv2.putText(img, f'{label} {score}', (x, y - 10), cv2.FONT_HERSHEY_SIMPLEX, 0.9, (0, 255, 0), 2)\n",
        "\n",
        "            # Convert the OpenCV image back to a base64 string\n",
        "            # encode OpenCV image to JPEG data\n",
        "            img_bytes = cv2.imencode('.jpg', img)[1].tobytes()\n",
        "            # convert numpy array to base64 string\n",
        "            img_base64 = b64encode(img_bytes).decode('utf-8')\n",
        "            bbox_data = 'data:image/jpeg;base64,' + img_base64 # Format for imgElement.src\n",
        "\n",
        "            # Update label and image data for the next frame\n",
        "            label_html = f'{label} (Score: {score})'\n",
        "            js_reply = video_frame(label_html, bbox_data) # Pass the image with drawn elements\n",
        "\n",
        "    if not js_reply:\n",
        "        break"
      ],
      "metadata": {
        "id": "tw48jek5T7vX"
      },
      "execution_count": null,
      "outputs": []
    },
    {
      "cell_type": "code",
      "source": [
        "# Optimized Function to recognize a face (if it is in known_faces)\n",
        "\n",
        "INT_MIN = -1e30\n",
        "\n",
        "def recognize(enc, known_dict, threshold = 0.5):\n",
        "  scores = defaultdict(int)\n",
        "\n",
        "  maxi = INT_MIN\n",
        "  rec_name = None\n",
        "\n",
        "  for name in known_people:\n",
        "    score = np.mean(known_dict[name] @ enc)\n",
        "\n",
        "    if score > maxi:\n",
        "      maxi = score\n",
        "      rec_name = name\n",
        "\n",
        "  return (rec_name, f'{maxi:2f}')"
      ],
      "metadata": {
        "id": "mESbLlUdszV0"
      },
      "execution_count": null,
      "outputs": []
    },
    {
      "cell_type": "code",
      "source": [
        "\n",
        "# Function to perform real-time face recognition through a webcam\n",
        "def face_recognition(known_dict, detector = detector, threshold = 0.75):\n",
        "\n",
        "  # start streaming video from webcam\n",
        "  video_stream()\n",
        "  # label for video\n",
        "  label_html = 'Capturing...'\n",
        "  bbox_data = '' # Initialize bbox_data for the JavaScript function\n",
        "\n",
        "  while True:\n",
        "    # Pass an empty string for bbox_data initially, or adapt JS to receive bbox\n",
        "    # For simplicity, let's not pass bbox data to JS for now and draw on img\n",
        "    js_reply = video_frame(label_html, '') # Pass empty string instead of bbox\n",
        "    if not js_reply:\n",
        "        break\n",
        "\n",
        "    # convert JS response to OpenCV Image\n",
        "    img = js_to_image(js_reply[\"img\"])\n",
        "\n",
        "    # Convert the loaded image to a NumPy array of type uint8\n",
        "    img_np = np.array(img, dtype=np.uint8)\n",
        "    result = detect_crop_haar(img_np) # Pass the converted image to detect_crop\n",
        "\n",
        "\n",
        "\n",
        "    if result is None:\n",
        "      cv2.putText(img, 'No Face Detected', (50, 50), cv2.FONT_HERSHEY_SIMPLEX, 0.9, (0, 255, 0), 2)\n",
        "      # Convert the OpenCV image back to a base64 string\n",
        "      img_bytes = cv2.imencode('.jpg', img)[1].tobytes()\n",
        "      img_base64 = b64encode(img_bytes).decode('utf-8')\n",
        "      bbox_data = 'data:image/jpeg;base64,' + img_base64 # Format for imgElement.src\n",
        "      # Update label and image data for the next frame\n",
        "      label_html = 'No Face Detected'\n",
        "      js_reply = video_frame(label_html, bbox_data)\n",
        "\n",
        "    else:\n",
        "      for bbox in result: # Iterate through detected faces if multiple\n",
        "        crop = img_np[bbox[1]:bbox[1]+bbox[3], bbox[0]:bbox[0]+bbox[2]]\n",
        "        enc = embed(crop)\n",
        "        label, score = recognize(enc, known_dict)\n",
        "\n",
        "        # Draw bounding box and text on the image if a face is detected\n",
        "        if bbox is not None:\n",
        "            x, y, w, h = bbox\n",
        "            cv2.rectangle(img, (x, y), (x+w, y+h), (0, 255, 0), 2)\n",
        "            # Put text near the bounding box, adjust position as needed\n",
        "            cv2.putText(img, f'{label} {score}', (x, y - 10), cv2.FONT_HERSHEY_SIMPLEX, 0.9, (0, 255, 0), 2)\n",
        "\n",
        "            # Convert the OpenCV image back to a base64 string\n",
        "            # encode OpenCV image to JPEG data\n",
        "            img_bytes = cv2.imencode('.jpg', img)[1].tobytes()\n",
        "            # convert numpy array to base64 string\n",
        "            img_base64 = b64encode(img_bytes).decode('utf-8')\n",
        "            bbox_data = 'data:image/jpeg;base64,' + img_base64 # Format for imgElement.src\n",
        "\n",
        "            # Update label and image data for the next frame\n",
        "            label_html = f'{label} (Score: {score})'\n",
        "            js_reply = video_frame(label_html, bbox_data) # Pass the image with drawn elements\n",
        "\n",
        "    if not js_reply:\n",
        "        break"
      ],
      "metadata": {
        "id": "z1_CR9EaFSqB"
      },
      "execution_count": null,
      "outputs": []
    },
    {
      "cell_type": "code",
      "source": [
        "face_recognition(known_dict)"
      ],
      "metadata": {
        "id": "Gf4lQgTRWdMp",
        "colab": {
          "base_uri": "https://localhost:8080/",
          "height": 788
        },
        "outputId": "a0f48b49-00b1-410a-b635-8aa7b27ed2d3"
      },
      "execution_count": null,
      "outputs": [
        {
          "output_type": "display_data",
          "data": {
            "text/plain": [
              "<IPython.core.display.Javascript object>"
            ],
            "application/javascript": [
              "\n",
              "    var video;\n",
              "    var div = null;\n",
              "    var stream;\n",
              "    var captureCanvas;\n",
              "    var imgElement;\n",
              "    var labelElement;\n",
              "\n",
              "    var pendingResolve = null;\n",
              "    var shutdown = false;\n",
              "\n",
              "    function removeDom() {\n",
              "       stream.getVideoTracks()[0].stop();\n",
              "       video.remove();\n",
              "       div.remove();\n",
              "       video = null;\n",
              "       div = null;\n",
              "       stream = null;\n",
              "       imgElement = null;\n",
              "       captureCanvas = null;\n",
              "       labelElement = null;\n",
              "    }\n",
              "\n",
              "    function onAnimationFrame() {\n",
              "      if (!shutdown) {\n",
              "        window.requestAnimationFrame(onAnimationFrame);\n",
              "      }\n",
              "      if (pendingResolve) {\n",
              "        var result = \"\";\n",
              "        if (!shutdown) {\n",
              "          captureCanvas.getContext('2d').drawImage(video, 0, 0, 640, 480);\n",
              "          result = captureCanvas.toDataURL('image/jpeg', 0.8)\n",
              "        }\n",
              "        var lp = pendingResolve;\n",
              "        pendingResolve = null;\n",
              "        lp(result);\n",
              "      }\n",
              "    }\n",
              "\n",
              "    async function createDom() {\n",
              "      if (div !== null) {\n",
              "        return stream;\n",
              "      }\n",
              "\n",
              "      div = document.createElement('div');\n",
              "      div.style.border = '2px solid black';\n",
              "      div.style.padding = '3px';\n",
              "      div.style.width = '100%';\n",
              "      div.style.maxWidth = '600px';\n",
              "      document.body.appendChild(div);\n",
              "\n",
              "      const modelOut = document.createElement('div');\n",
              "      modelOut.innerHTML = \"<span>Status:</span>\";\n",
              "      labelElement = document.createElement('span');\n",
              "      labelElement.innerText = 'No data';\n",
              "      labelElement.style.fontWeight = 'bold';\n",
              "      modelOut.appendChild(labelElement);\n",
              "      div.appendChild(modelOut);\n",
              "\n",
              "      video = document.createElement('video');\n",
              "      video.style.display = 'block';\n",
              "      video.width = div.clientWidth - 6;\n",
              "      video.setAttribute('playsinline', '');\n",
              "      video.onclick = () => { shutdown = true; };\n",
              "      stream = await navigator.mediaDevices.getUserMedia(\n",
              "          {video: { facingMode: \"environment\"}});\n",
              "      div.appendChild(video);\n",
              "\n",
              "      imgElement = document.createElement('img');\n",
              "      imgElement.style.position = 'absolute';\n",
              "      imgElement.style.zIndex = 1;\n",
              "      imgElement.onclick = () => { shutdown = true; };\n",
              "      div.appendChild(imgElement);\n",
              "\n",
              "      const instruction = document.createElement('div');\n",
              "      instruction.innerHTML =\n",
              "          '<span style=\"color: red; font-weight: bold;\">' +\n",
              "          'When finished, click here or on the video to stop this demo</span>';\n",
              "      div.appendChild(instruction);\n",
              "      instruction.onclick = () => { shutdown = true; };\n",
              "\n",
              "      video.srcObject = stream;\n",
              "      await video.play();\n",
              "\n",
              "      captureCanvas = document.createElement('canvas');\n",
              "      captureCanvas.width = 640; //video.videoWidth;\n",
              "      captureCanvas.height = 480; //video.videoHeight;\n",
              "      window.requestAnimationFrame(onAnimationFrame);\n",
              "\n",
              "      return stream;\n",
              "    }\n",
              "    async function stream_frame(label, imgData) {\n",
              "      if (shutdown) {\n",
              "        removeDom();\n",
              "        shutdown = false;\n",
              "        return '';\n",
              "      }\n",
              "\n",
              "      var preCreate = Date.now();\n",
              "      stream = await createDom();\n",
              "\n",
              "      var preShow = Date.now();\n",
              "      if (label != \"\") {\n",
              "        labelElement.innerHTML = label;\n",
              "      }\n",
              "\n",
              "      if (imgData != \"\") {\n",
              "        var videoRect = video.getClientRects()[0];\n",
              "        imgElement.style.top = videoRect.top + \"px\";\n",
              "        imgElement.style.left = videoRect.left + \"px\";\n",
              "        imgElement.style.width = videoRect.width + \"px\";\n",
              "        imgElement.style.height = videoRect.height + \"px\";\n",
              "        imgElement.src = imgData;\n",
              "      }\n",
              "\n",
              "      var preCapture = Date.now();\n",
              "      var result = await new Promise(function(resolve, reject) {\n",
              "        pendingResolve = resolve;\n",
              "      });\n",
              "      shutdown = false;\n",
              "\n",
              "      return {'create': preShow - preCreate,\n",
              "              'show': preCapture - preShow,\n",
              "              'capture': Date.now() - preCapture,\n",
              "              'img': result};\n",
              "    }\n",
              "    "
            ]
          },
          "metadata": {}
        },
        {
          "output_type": "error",
          "ename": "KeyboardInterrupt",
          "evalue": "",
          "traceback": [
            "\u001b[0;31m---------------------------------------------------------------------------\u001b[0m",
            "\u001b[0;31mKeyboardInterrupt\u001b[0m                         Traceback (most recent call last)",
            "\u001b[0;32m<ipython-input-68-8548ee712c63>\u001b[0m in \u001b[0;36m<cell line: 0>\u001b[0;34m()\u001b[0m\n\u001b[0;32m----> 1\u001b[0;31m \u001b[0mface_recognition\u001b[0m\u001b[0;34m(\u001b[0m\u001b[0mknown_dict\u001b[0m\u001b[0;34m)\u001b[0m\u001b[0;34m\u001b[0m\u001b[0;34m\u001b[0m\u001b[0m\n\u001b[0m",
            "\u001b[0;32m<ipython-input-67-5807968f3746>\u001b[0m in \u001b[0;36mface_recognition\u001b[0;34m(known_dict, detector, threshold)\u001b[0m\n\u001b[1;32m     11\u001b[0m     \u001b[0;31m# Pass an empty string for bbox_data initially, or adapt JS to receive bbox\u001b[0m\u001b[0;34m\u001b[0m\u001b[0;34m\u001b[0m\u001b[0m\n\u001b[1;32m     12\u001b[0m     \u001b[0;31m# For simplicity, let's not pass bbox data to JS for now and draw on img\u001b[0m\u001b[0;34m\u001b[0m\u001b[0;34m\u001b[0m\u001b[0m\n\u001b[0;32m---> 13\u001b[0;31m     \u001b[0mjs_reply\u001b[0m \u001b[0;34m=\u001b[0m \u001b[0mvideo_frame\u001b[0m\u001b[0;34m(\u001b[0m\u001b[0mlabel_html\u001b[0m\u001b[0;34m,\u001b[0m \u001b[0;34m''\u001b[0m\u001b[0;34m)\u001b[0m \u001b[0;31m# Pass empty string instead of bbox\u001b[0m\u001b[0;34m\u001b[0m\u001b[0;34m\u001b[0m\u001b[0m\n\u001b[0m\u001b[1;32m     14\u001b[0m     \u001b[0;32mif\u001b[0m \u001b[0;32mnot\u001b[0m \u001b[0mjs_reply\u001b[0m\u001b[0;34m:\u001b[0m\u001b[0;34m\u001b[0m\u001b[0;34m\u001b[0m\u001b[0m\n\u001b[1;32m     15\u001b[0m         \u001b[0;32mbreak\u001b[0m\u001b[0;34m\u001b[0m\u001b[0;34m\u001b[0m\u001b[0m\n",
            "\u001b[0;32m<ipython-input-13-c6e789c41202>\u001b[0m in \u001b[0;36mvideo_frame\u001b[0;34m(label, bbox)\u001b[0m\n\u001b[1;32m    132\u001b[0m \u001b[0;34m\u001b[0m\u001b[0m\n\u001b[1;32m    133\u001b[0m \u001b[0;32mdef\u001b[0m \u001b[0mvideo_frame\u001b[0m\u001b[0;34m(\u001b[0m\u001b[0mlabel\u001b[0m\u001b[0;34m,\u001b[0m \u001b[0mbbox\u001b[0m\u001b[0;34m)\u001b[0m\u001b[0;34m:\u001b[0m\u001b[0;34m\u001b[0m\u001b[0;34m\u001b[0m\u001b[0m\n\u001b[0;32m--> 134\u001b[0;31m   \u001b[0mdata\u001b[0m \u001b[0;34m=\u001b[0m \u001b[0meval_js\u001b[0m\u001b[0;34m(\u001b[0m\u001b[0;34m'stream_frame(\"{}\", \"{}\")'\u001b[0m\u001b[0;34m.\u001b[0m\u001b[0mformat\u001b[0m\u001b[0;34m(\u001b[0m\u001b[0mlabel\u001b[0m\u001b[0;34m,\u001b[0m \u001b[0mbbox\u001b[0m\u001b[0;34m)\u001b[0m\u001b[0;34m)\u001b[0m\u001b[0;34m\u001b[0m\u001b[0;34m\u001b[0m\u001b[0m\n\u001b[0m\u001b[1;32m    135\u001b[0m   \u001b[0;32mreturn\u001b[0m \u001b[0mdata\u001b[0m\u001b[0;34m\u001b[0m\u001b[0;34m\u001b[0m\u001b[0m\n",
            "\u001b[0;32m/usr/local/lib/python3.11/dist-packages/google/colab/output/_js.py\u001b[0m in \u001b[0;36meval_js\u001b[0;34m(script, ignore_result, timeout_sec)\u001b[0m\n\u001b[1;32m     38\u001b[0m   \u001b[0;32mif\u001b[0m \u001b[0mignore_result\u001b[0m\u001b[0;34m:\u001b[0m\u001b[0;34m\u001b[0m\u001b[0;34m\u001b[0m\u001b[0m\n\u001b[1;32m     39\u001b[0m     \u001b[0;32mreturn\u001b[0m\u001b[0;34m\u001b[0m\u001b[0;34m\u001b[0m\u001b[0m\n\u001b[0;32m---> 40\u001b[0;31m   \u001b[0;32mreturn\u001b[0m \u001b[0m_message\u001b[0m\u001b[0;34m.\u001b[0m\u001b[0mread_reply_from_input\u001b[0m\u001b[0;34m(\u001b[0m\u001b[0mrequest_id\u001b[0m\u001b[0;34m,\u001b[0m \u001b[0mtimeout_sec\u001b[0m\u001b[0;34m)\u001b[0m\u001b[0;34m\u001b[0m\u001b[0;34m\u001b[0m\u001b[0m\n\u001b[0m\u001b[1;32m     41\u001b[0m \u001b[0;34m\u001b[0m\u001b[0m\n\u001b[1;32m     42\u001b[0m \u001b[0;34m\u001b[0m\u001b[0m\n",
            "\u001b[0;32m/usr/local/lib/python3.11/dist-packages/google/colab/_message.py\u001b[0m in \u001b[0;36mread_reply_from_input\u001b[0;34m(message_id, timeout_sec)\u001b[0m\n\u001b[1;32m     94\u001b[0m     \u001b[0mreply\u001b[0m \u001b[0;34m=\u001b[0m \u001b[0m_read_next_input_message\u001b[0m\u001b[0;34m(\u001b[0m\u001b[0;34m)\u001b[0m\u001b[0;34m\u001b[0m\u001b[0;34m\u001b[0m\u001b[0m\n\u001b[1;32m     95\u001b[0m     \u001b[0;32mif\u001b[0m \u001b[0mreply\u001b[0m \u001b[0;34m==\u001b[0m \u001b[0m_NOT_READY\u001b[0m \u001b[0;32mor\u001b[0m \u001b[0;32mnot\u001b[0m \u001b[0misinstance\u001b[0m\u001b[0;34m(\u001b[0m\u001b[0mreply\u001b[0m\u001b[0;34m,\u001b[0m \u001b[0mdict\u001b[0m\u001b[0;34m)\u001b[0m\u001b[0;34m:\u001b[0m\u001b[0;34m\u001b[0m\u001b[0;34m\u001b[0m\u001b[0m\n\u001b[0;32m---> 96\u001b[0;31m       \u001b[0mtime\u001b[0m\u001b[0;34m.\u001b[0m\u001b[0msleep\u001b[0m\u001b[0;34m(\u001b[0m\u001b[0;36m0.025\u001b[0m\u001b[0;34m)\u001b[0m\u001b[0;34m\u001b[0m\u001b[0;34m\u001b[0m\u001b[0m\n\u001b[0m\u001b[1;32m     97\u001b[0m       \u001b[0;32mcontinue\u001b[0m\u001b[0;34m\u001b[0m\u001b[0;34m\u001b[0m\u001b[0m\n\u001b[1;32m     98\u001b[0m     if (\n",
            "\u001b[0;31mKeyboardInterrupt\u001b[0m: "
          ]
        }
      ]
    },
    {
      "cell_type": "code",
      "source": [
        "result"
      ],
      "metadata": {
        "colab": {
          "base_uri": "https://localhost:8080/"
        },
        "id": "nyPziHektuuj",
        "outputId": "eee427ac-1f12-4bfe-e628-48985ceab175"
      },
      "execution_count": null,
      "outputs": [
        {
          "output_type": "execute_result",
          "data": {
            "text/plain": [
              "[]"
            ]
          },
          "metadata": {},
          "execution_count": 46
        }
      ]
    },
    {
      "cell_type": "code",
      "source": [],
      "metadata": {
        "id": "BEznVPKWuN8I"
      },
      "execution_count": null,
      "outputs": []
    }
  ]
}